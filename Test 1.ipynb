{
 "cells": [
  {
   "cell_type": "code",
   "execution_count": null,
   "metadata": {},
   "outputs": [],
   "source": [
    "# Dependencies and Setup\n",
    "\n",
    "import pandas as pd\n",
    "import csv\n",
    "import os"
   ]
  },
  {
   "cell_type": "code",
   "execution_count": null,
   "metadata": {},
   "outputs": [],
   "source": [
    "# File to Load (Remember to Change These)\n",
    "\n",
    "data =pd.read_csv(r'Pandas-Challenge/HeroesofPymoli/purchase_data.csv')"
   ]
  },
  {
   "cell_type": "code",
   "execution_count": null,
   "metadata": {},
   "outputs": [],
   "source": [
    "# Read Purchasing File and store into Pandas data frame\n",
    "\n",
    "df =pd.DataFrame(data)"
   ]
  },
  {
   "cell_type": "code",
   "execution_count": null,
   "metadata": {},
   "outputs": [],
   "source": [
    "# Set and Name Variables\n",
    "PID = \"Purchase_ID\"\n",
    "Print (PID)\n",
    "\n",
    "SN = \"SN\"\n",
    "Print (SN)\n",
    "\n",
    "AGE = \"Age\"\n",
    "Print (AGE)\n",
    "\n",
    "SEX = \"Gender\"\n",
    "Print (SEX)\n",
    "\n",
    "IID = \"Item_ID\"\n",
    "Print (IID)\n",
    "\n",
    "INM = \"Item Name\"\n",
    "Print (INM)\n",
    "\n",
    "PRICE = \"Price\"\n",
    "Print (PRICE)\n",
    "\n",
    "Purchase ID = int (0)\n",
    "SN = str (name)\n",
    "Age = int(0)\n",
    "Gender = str(name)\n",
    "Item ID = int (0)\n",
    "Item Name = str(name)\n",
    "Price = int (0)\n"
   ]
  },
  {
   "cell_type": "code",
   "execution_count": null,
   "metadata": {},
   "outputs": [],
   "source": [
    "# Total Number of Players\n",
    "\n",
    "Total_Players = len(open('Pandas-Challenge/HeroesofPymoli/purchase_data.csv') . readlines( ))\n",
    "\n",
    "Print (Total_Players)"
   ]
  },
  {
   "cell_type": "code",
   "execution_count": null,
   "metadata": {},
   "outputs": [],
   "source": [
    "# Set Path to Data Set in a Variable\n",
    "\n",
    "data_file = \"Pandas-Challenge/HeroesofPymoli/purchase_data.csv\"\n",
    "data_file_df = pd.read_csv(data_file)\n",
    "data_file_df.head()"
   ]
  },
  {
   "cell_type": "code",
   "execution_count": null,
   "metadata": {},
   "outputs": [],
   "source": [
    "# Number of Unique Items\n",
    "\n",
    "unique = purchase_df[\"Last Name\"].unique()\n",
    "unique\n"
   ]
  }
 ],
 "metadata": {
  "kernelspec": {
   "display_name": "Python 3",
   "language": "python",
   "name": "python3"
  },
  "language_info": {
   "codemirror_mode": {
    "name": "ipython",
    "version": 3
   },
   "file_extension": ".py",
   "mimetype": "text/x-python",
   "name": "python",
   "nbconvert_exporter": "python",
   "pygments_lexer": "ipython3",
   "version": "3.8.5"
  }
 },
 "nbformat": 4,
 "nbformat_minor": 4
}
