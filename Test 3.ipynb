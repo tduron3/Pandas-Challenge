{
 "cells": [
  {
   "cell_type": "code",
   "execution_count": null,
   "metadata": {},
   "outputs": [],
   "source": [
    "# Dependencies and Setup\n",
    "\n",
    "import pandas as pd\n",
    "import csv\n",
    "import os"
   ]
  },
  {
   "cell_type": "code",
   "execution_count": null,
   "metadata": {},
   "outputs": [],
   "source": [
    "# File to Load (Remember to Change These)\n",
    "\n",
    "data =pd.read_csv(r'Pandas-Challenge/HeroesofPymoli/purchase_data.csv')"
   ]
  },
  {
   "cell_type": "code",
   "execution_count": null,
   "metadata": {},
   "outputs": [],
   "source": [
    "# Read Purchasing File and store into Pandas data frame\n",
    "\n",
    "df =pd.DataFrame(data)\n",
    "print (df)"
   ]
  },
  {
   "cell_type": "code",
   "execution_count": null,
   "metadata": {},
   "outputs": [],
   "source": [
    "# Set and Name Variables\n",
    "\n",
    "PID = \"Purchase_ID\"\n",
    "Print (PID)\n",
    "\n",
    "SN = \"SN\"\n",
    "Print (SN)\n",
    "\n",
    "AGE = \"Age\"\n",
    "Print (AGE)\n",
    "\n",
    "SEX = \"Gender\"\n",
    "Print (SEX)\n",
    "\n",
    "IID = \"Item_ID\"\n",
    "Print (IID)\n",
    "\n",
    "INM = \"Item Name\"\n",
    "Print (INM)\n",
    "\n",
    "PRICE = \"Price\"\n",
    "Print (PRICE)\n",
    "\n",
    "Purchase ID = int (0)\n",
    "SN = str (name)\n",
    "Age = int(0)\n",
    "Gender = str(name)\n",
    "Item ID = int (0)\n",
    "Item Name = str(name)\n",
    "Price = int (0)\n"
   ]
  },
  {
   "cell_type": "code",
   "execution_count": null,
   "metadata": {},
   "outputs": [],
   "source": [
    "# Total Number of Players\n",
    "\n",
    "Total_Players = len(open('Pandas-Challenge/HeroesofPymoli/purchase_data.csv') . readlines( ))\n",
    "\n",
    "Print (Total_Players)"
   ]
  },
  {
   "cell_type": "code",
   "execution_count": null,
   "metadata": {},
   "outputs": [],
   "source": [
    "# Set Path to Data Set in a Variable\n",
    "\n",
    "data_file = \"Pandas-Challenge/HeroesofPymoli/purchase_data.csv\"\n",
    "data_file_df = pd.read_csv(data_file)\n",
    "data_file_df.head()"
   ]
  },
  {
   "cell_type": "code",
   "execution_count": 1,
   "metadata": {},
   "outputs": [
    {
     "ename": "SyntaxError",
     "evalue": "invalid syntax (<ipython-input-1-af870677f405>, line 5)",
     "output_type": "error",
     "traceback": [
      "\u001b[1;36m  File \u001b[1;32m\"<ipython-input-1-af870677f405>\"\u001b[1;36m, line \u001b[1;32m5\u001b[0m\n\u001b[1;33m    count = data_file_df[]\u001b[0m\n\u001b[1;37m                         ^\u001b[0m\n\u001b[1;31mSyntaxError\u001b[0m\u001b[1;31m:\u001b[0m invalid syntax\n"
     ]
    }
   ],
   "source": [
    "# Number of Unique Items\n",
    "\n",
    "unique = data_file_df[\"Item ID\"]. unique()\n",
    "unique\n",
    "\n",
    "count = data_file_df[\"Item ID\"]. value_counts()\n",
    "count\n"
   ]
  },
  {
   "cell_type": "code",
   "execution_count": null,
   "metadata": {},
   "outputs": [],
   "source": [
    "# Average Purchase Price\n",
    "\n",
    "average = data_file_df[\"Price\"]. mean()\n",
    "average"
   ]
  },
  {
   "cell_type": "code",
   "execution_count": null,
   "metadata": {},
   "outputs": [],
   "source": []
  },
  {
   "cell_type": "code",
   "execution_count": null,
   "metadata": {
    "collapsed": true
   },
   "outputs": [],
   "source": [
    "# Total Number of Purchases\n",
    "\n",
    "Total_Purchases = len(open('Pandas-Challenge/HeroesofPymoli/purchase_data.csv') . readlines( ))\n",
    "Print (Total_Purchases)"
   ]
  },
  {
   "cell_type": "code",
   "execution_count": null,
   "metadata": {},
   "outputs": [],
   "source": [
    "# Total Revenue\n",
    "\n",
    "Total = data_file_df[\"Price\"]. sum()\n",
    "total"
   ]
  },
  {
   "cell_type": "code",
   "execution_count": null,
   "metadata": {},
   "outputs": [],
   "source": [
    "# Count of Male/Female/Other\n",
    "\n",
    "count = data_file_df[\"Gender\"]. value_counts()\n",
    "count"
   ]
  },
  {
   "cell_type": "code",
   "execution_count": null,
   "metadata": {},
   "outputs": [],
   "source": [
    "# Percentage of Male/Female/Other\n",
    "\n",
    "def gender_percentages(data_file):\n",
    "     a = 652\n",
    "     b = 113\n",
    "     c = 15\n",
    "     d = Total_Players  \n",
    "    \n",
    "gender_percentages = (a / d) * 100\n",
    "print (gender_percentages)\n",
    "\n",
    "gender_percentages = (b / d) * 100\n",
    "print (gender_percentages)\n",
    "\n",
    "gender_percentages = (c / d) * 100\n",
    "print (gender_percentages)\n",
    "    \n",
    "    "
   ]
  },
  {
   "cell_type": "code",
   "execution_count": null,
   "metadata": {},
   "outputs": [],
   "source": []
  }
 ],
 "metadata": {
  "kernelspec": {
   "display_name": "Python 3",
   "language": "python",
   "name": "python3"
  },
  "language_info": {
   "codemirror_mode": {
    "name": "ipython",
    "version": 3
   },
   "file_extension": ".py",
   "mimetype": "text/x-python",
   "name": "python",
   "nbconvert_exporter": "python",
   "pygments_lexer": "ipython3",
   "version": "3.8.5"
  }
 },
 "nbformat": 4,
 "nbformat_minor": 4
}
